{
 "cells": [
  {
   "cell_type": "code",
   "execution_count": 3,
   "metadata": {},
   "outputs": [],
   "source": [
    "# packages\n",
    "import numpy as np"
   ]
  },
  {
   "attachments": {},
   "cell_type": "markdown",
   "metadata": {},
   "source": [
    "## Simple numpy array creation"
   ]
  },
  {
   "cell_type": "code",
   "execution_count": 5,
   "metadata": {},
   "outputs": [
    {
     "data": {
      "text/plain": [
       "array([ 14,  25,  36, 144,  65,  45])"
      ]
     },
     "execution_count": 5,
     "metadata": {},
     "output_type": "execute_result"
    }
   ],
   "source": [
    "a = np.array([14,25,36,144,65, 45])\n",
    "a"
   ]
  },
  {
   "cell_type": "code",
   "execution_count": 6,
   "metadata": {},
   "outputs": [
    {
     "data": {
      "text/plain": [
       "array([0., 0., 0., 0., 0.])"
      ]
     },
     "execution_count": 6,
     "metadata": {},
     "output_type": "execute_result"
    }
   ],
   "source": [
    "#using zero function\n",
    "a = np.zeros(5)\n",
    "a"
   ]
  },
  {
   "cell_type": "code",
   "execution_count": 7,
   "metadata": {},
   "outputs": [
    {
     "data": {
      "text/plain": [
       "array([1., 1., 1., 1., 1.])"
      ]
     },
     "execution_count": 7,
     "metadata": {},
     "output_type": "execute_result"
    }
   ],
   "source": [
    "#using ones function\n",
    "a = np.ones(5)\n",
    "a"
   ]
  },
  {
   "cell_type": "code",
   "execution_count": 8,
   "metadata": {},
   "outputs": [
    {
     "data": {
      "text/plain": [
       "array([1., 1., 1., 1., 1.])"
      ]
     },
     "execution_count": 8,
     "metadata": {},
     "output_type": "execute_result"
    }
   ],
   "source": [
    "# using empty function\n",
    "a = np.empty(5)\n",
    "a"
   ]
  },
  {
   "cell_type": "code",
   "execution_count": 13,
   "metadata": {},
   "outputs": [
    {
     "data": {
      "text/plain": [
       "array([1, 3, 5, 7])"
      ]
     },
     "execution_count": 13,
     "metadata": {},
     "output_type": "execute_result"
    }
   ],
   "source": [
    "# using range function\n",
    "a = np.arange(5)\n",
    "print(a)\n",
    "\n",
    "a = np.arange(1,8,2)\n",
    "a"
   ]
  },
  {
   "cell_type": "code",
   "execution_count": 16,
   "metadata": {},
   "outputs": [
    {
     "data": {
      "text/plain": [
       "array([1.        , 1.08080808, 1.16161616, 1.24242424, 1.32323232,\n",
       "       1.4040404 , 1.48484848, 1.56565657, 1.64646465, 1.72727273,\n",
       "       1.80808081, 1.88888889, 1.96969697, 2.05050505, 2.13131313,\n",
       "       2.21212121, 2.29292929, 2.37373737, 2.45454545, 2.53535354,\n",
       "       2.61616162, 2.6969697 , 2.77777778, 2.85858586, 2.93939394,\n",
       "       3.02020202, 3.1010101 , 3.18181818, 3.26262626, 3.34343434,\n",
       "       3.42424242, 3.50505051, 3.58585859, 3.66666667, 3.74747475,\n",
       "       3.82828283, 3.90909091, 3.98989899, 4.07070707, 4.15151515,\n",
       "       4.23232323, 4.31313131, 4.39393939, 4.47474747, 4.55555556,\n",
       "       4.63636364, 4.71717172, 4.7979798 , 4.87878788, 4.95959596,\n",
       "       5.04040404, 5.12121212, 5.2020202 , 5.28282828, 5.36363636,\n",
       "       5.44444444, 5.52525253, 5.60606061, 5.68686869, 5.76767677,\n",
       "       5.84848485, 5.92929293, 6.01010101, 6.09090909, 6.17171717,\n",
       "       6.25252525, 6.33333333, 6.41414141, 6.49494949, 6.57575758,\n",
       "       6.65656566, 6.73737374, 6.81818182, 6.8989899 , 6.97979798,\n",
       "       7.06060606, 7.14141414, 7.22222222, 7.3030303 , 7.38383838,\n",
       "       7.46464646, 7.54545455, 7.62626263, 7.70707071, 7.78787879,\n",
       "       7.86868687, 7.94949495, 8.03030303, 8.11111111, 8.19191919,\n",
       "       8.27272727, 8.35353535, 8.43434343, 8.51515152, 8.5959596 ,\n",
       "       8.67676768, 8.75757576, 8.83838384, 8.91919192, 9.        ])"
      ]
     },
     "execution_count": 16,
     "metadata": {},
     "output_type": "execute_result"
    }
   ],
   "source": [
    "# using linspace function\n",
    "a = np.linspace(1,9,num=100)\n",
    "a"
   ]
  }
 ],
 "metadata": {
  "kernelspec": {
   "display_name": "env",
   "language": "python",
   "name": "python3"
  },
  "language_info": {
   "codemirror_mode": {
    "name": "ipython",
    "version": 3
   },
   "file_extension": ".py",
   "mimetype": "text/x-python",
   "name": "python",
   "nbconvert_exporter": "python",
   "pygments_lexer": "ipython3",
   "version": "3.11.2"
  },
  "orig_nbformat": 4
 },
 "nbformat": 4,
 "nbformat_minor": 2
}
